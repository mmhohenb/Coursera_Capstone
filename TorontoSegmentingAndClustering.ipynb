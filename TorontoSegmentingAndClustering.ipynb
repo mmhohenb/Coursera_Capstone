{
 "cells": [
  {
   "cell_type": "markdown",
   "metadata": {},
   "source": [
    "## Segmenting Neighborhoods in Toronto"
   ]
  },
  {
   "cell_type": "markdown",
   "metadata": {},
   "source": [
    "#### Section 0: Required packages"
   ]
  },
  {
   "cell_type": "markdown",
   "metadata": {},
   "source": [
    "This notebook requires pandas, lxml, and folium to run."
   ]
  },
  {
   "cell_type": "markdown",
   "metadata": {},
   "source": [
    "#### Section 1: Scraping Neighborhoods from Toronto Postal Codes"
   ]
  },
  {
   "cell_type": "markdown",
   "metadata": {},
   "source": [
    "##### Step 1: importing required packages"
   ]
  },
  {
   "cell_type": "code",
   "execution_count": 1,
   "metadata": {},
   "outputs": [],
   "source": [
    "import requests\n",
    "import lxml.html as lh\n",
    "import pandas as pd\n",
    "#import beautifulsoup4 as soup  I'm having some environment issues while trying to import beautifulsoup4. Not used for analysis."
   ]
  },
  {
   "cell_type": "markdown",
   "metadata": {},
   "source": [
    "##### Step 2: Store the website we're scraping as a variable, and store the elements from the table"
   ]
  },
  {
   "cell_type": "code",
   "execution_count": 2,
   "metadata": {},
   "outputs": [],
   "source": [
    "url = \"https://en.wikipedia.org/wiki/List_of_postal_codes_of_Canada:_M\""
   ]
  },
  {
   "cell_type": "code",
   "execution_count": 3,
   "metadata": {},
   "outputs": [],
   "source": [
    "page = requests.get(url)\n",
    "doc = lh.fromstring(page.content)\n",
    "table_elements = doc.xpath('//tr')"
   ]
  },
  {
   "cell_type": "code",
   "execution_count": 4,
   "metadata": {},
   "outputs": [
    {
     "data": {
      "text/plain": [
       "[3, 3, 3, 3, 3, 3, 3, 3, 3, 3, 3, 3]"
      ]
     },
     "execution_count": 4,
     "metadata": {},
     "output_type": "execute_result"
    }
   ],
   "source": [
    "[len(T) for T in table_elements[:12]] #verifies I pulled elements from just the table I wanted"
   ]
  },
  {
   "cell_type": "code",
   "execution_count": 5,
   "metadata": {},
   "outputs": [
    {
     "name": "stdout",
     "output_type": "stream",
     "text": [
      "1:\"Postcode\"\n",
      "2:\"Borough\"\n",
      "3:\"Neighborhood\n",
      "\"\n"
     ]
    }
   ],
   "source": [
    "tr_elements = doc.xpath('//tr')#Create empty list\n",
    "col=[]\n",
    "i=0 #For each row, store each first element (header) and an empty list\n",
    "for t in tr_elements[0]:\n",
    "    i+=1\n",
    "    name=t.text_content()\n",
    "    print('%d:\"%s\"'%(i,name))\n",
    "    col.append((name,[]))"
   ]
  },
  {
   "cell_type": "markdown",
   "metadata": {},
   "source": [
    "Now onto creating a dictionary of the postal codes, boroughs, and neighorhoods. When all is said and done for the dataframe, we want one row for each postal code, which corresponds to one or more neighborhoods within one borough. If a postal code is \"Not assigned\" in the borough cell, it is skipped over."
   ]
  },
  {
   "cell_type": "code",
   "execution_count": 6,
   "metadata": {},
   "outputs": [],
   "source": [
    "postaldict = {}\n",
    "\n",
    "j = 0\n",
    "for r in range(1,len(tr_elements)):\n",
    "    j+=1\n",
    "    row=tr_elements[r]\n",
    "    \n",
    "    if len(row)!=3:\n",
    "        break\n",
    "    item = row.text_content().split('\\n')\n",
    "\n",
    "    if item[2] != 'Not assigned':\n",
    "        if item[1] not in postaldict.keys():\n",
    "            postaldict[item[1]] = [item[2], [item[3]]]\n",
    "        else:\n",
    "            postaldict[item[1]][1].append(item[3])"
   ]
  },
  {
   "cell_type": "markdown",
   "metadata": {},
   "source": [
    "##### Step 3: Clean-up"
   ]
  },
  {
   "cell_type": "markdown",
   "metadata": {},
   "source": [
    "Assign any \"Not assigned\" neighborhoods the name of the borough, and convert the neighborhood lists into strings"
   ]
  },
  {
   "cell_type": "code",
   "execution_count": 7,
   "metadata": {},
   "outputs": [
    {
     "name": "stdout",
     "output_type": "stream",
     "text": [
      "Parkwoods\n",
      "Victoria Village\n",
      "Harbourfront\n",
      "Lawrence Heights, Lawrence Manor\n",
      "Queen's Park\n",
      "Rouge, Malvern\n",
      "Don Mills North\n",
      "Woodbine Gardens, Parkview Hill\n",
      "Ryerson, Garden District\n",
      "Glencairn\n",
      "Cloverdale, Islington, Martin Grove, Princess Gardens, West Deane Park\n",
      "Highland Creek, Rouge Hill, Port Union\n",
      "Flemingdon Park, Don Mills South\n",
      "Woodbine Heights\n",
      "St. James Town\n",
      "Humewood-Cedarvale\n",
      "Bloordale Gardens, Eringate, Markland Wood, Old Burnhamthorpe\n",
      "Guildwood, Morningside, West Hill\n",
      "The Beaches\n",
      "Berczy Park\n",
      "Caledonia-Fairbanks\n",
      "Woburn\n",
      "Leaside\n",
      "Central Bay Street\n",
      "Christie\n",
      "Cedarbrae\n",
      "Hillcrest Village\n",
      "Bathurst Manor, Downsview North, Wilson Heights\n",
      "Thorncliffe Park\n",
      "Adelaide, King, Richmond\n",
      "Dovercourt Village, Dufferin\n",
      "Scarborough Village\n",
      "Fairview, Henry Farm, Oriole\n",
      "Northwood Park, York University\n",
      "East Toronto\n",
      "Harbourfront East, Toronto Islands, Union Station\n",
      "Little Portugal, Trinity\n",
      "East Birchmount Park, Ionview, Kennedy Park\n",
      "Bayview Village\n",
      "CFB Toronto, Downsview East\n",
      "The Danforth West, Riverdale\n",
      "Design Exchange, Toronto Dominion Centre\n",
      "Brockton, Exhibition Place, Parkdale Village\n",
      "Clairlea, Golden Mile, Oakridge\n",
      "Silver Hills, York Mills\n",
      "Downsview West\n",
      "The Beaches West, India Bazaar\n",
      "Commerce Court, Victoria Hotel\n",
      "Downsview, North Park, Upwood Park\n",
      "Humber Summit\n",
      "Cliffcrest, Cliffside, Scarborough Village West\n",
      "Newtonbrook, Willowdale\n",
      "Downsview Central\n",
      "Studio District\n",
      "Bedford Park, Lawrence Manor East\n",
      "Del Ray, Keelesdale, Mount Dennis, Silverthorn\n",
      "Emery, Humberlea\n",
      "Birch Cliff, Cliffside West\n",
      "Willowdale South\n",
      "Downsview Northwest\n",
      "Lawrence Park\n",
      "Roselawn\n",
      "The Junction North, Runnymede\n",
      "Weston\n",
      "Dorset Park, Scarborough Town Centre, Wexford Heights\n",
      "York Mills West\n",
      "Davisville North\n",
      "Forest Hill North, Forest Hill West\n",
      "High Park, The Junction South\n",
      "Westmount\n",
      "Maryvale, Wexford\n",
      "Willowdale West\n",
      "North Toronto West\n",
      "The Annex, North Midtown, Yorkville\n",
      "Parkdale, Roncesvalles\n",
      "Canada Post Gateway Processing Centre\n",
      "Kingsview Village, Martin Grove Gardens, Richview Gardens, St. Phillips\n",
      "Agincourt\n",
      "Davisville\n",
      "Harbord, University of Toronto\n",
      "Runnymede, Swansea\n",
      "Clarks Corners, Sullivan, Tam O'Shanter\n",
      "Moore Park, Summerhill East\n",
      "Chinatown, Grange Park, Kensington Market\n",
      "Agincourt North, L'Amoreaux East, Milliken, Steeles East\n",
      "Deer Park, Forest Hill SE, Rathnelly, South Hill, Summerhill West\n",
      "CN Tower, Bathurst Quay, Island airport, Harbourfront West, King and Spadina, Railway Lands, South Niagara\n",
      "Humber Bay Shores, Mimico South, New Toronto\n",
      "Albion Gardens, Beaumond Heights, Humbergate, Jamestown, Mount Olive, Silverstone, South Steeles, Thistletown\n",
      "L'Amoreaux West\n",
      "Rosedale\n",
      "Stn A PO Boxes 25 The Esplanade\n",
      "Alderwood, Long Branch\n",
      "Northwest\n",
      "Upper Rouge\n",
      "Cabbagetown, St. James Town\n",
      "First Canadian Place, Underground city\n",
      "The Kingsway, Montgomery Road, Old Mill North\n",
      "Church and Wellesley\n",
      "Business Reply Mail Processing Centre 969 Eastern\n",
      "Humber Bay, King's Mill Park, Kingsway Park South East, Mimico NE, Old Mill South, The Queensway East, Royal York South East, Sunnylea\n",
      "Kingsway Park South West, Mimico NW, The Queensway West, Royal York South West, South of Bloor\n",
      "{'M3A': ['North York', 'Parkwoods'], 'M4A': ['North York', 'Victoria Village'], 'M5A': ['Downtown Toronto', 'Harbourfront'], 'M6A': ['North York', 'Lawrence Heights, Lawrence Manor'], 'M7A': [\"Queen's Park\", \"Queen's Park\"], 'M9A': ['Downtown Toronto', \"Queen's Park\"], 'M1B': ['Scarborough', 'Rouge, Malvern'], 'M3B': ['North York', 'Don Mills North'], 'M4B': ['East York', 'Woodbine Gardens, Parkview Hill'], 'M5B': ['Downtown Toronto', 'Ryerson, Garden District'], 'M6B': ['North York', 'Glencairn'], 'M9B': ['Etobicoke', 'Cloverdale, Islington, Martin Grove, Princess Gardens, West Deane Park'], 'M1C': ['Scarborough', 'Highland Creek, Rouge Hill, Port Union'], 'M3C': ['North York', 'Flemingdon Park, Don Mills South'], 'M4C': ['East York', 'Woodbine Heights'], 'M5C': ['Downtown Toronto', 'St. James Town'], 'M6C': ['York', 'Humewood-Cedarvale'], 'M9C': ['Etobicoke', 'Bloordale Gardens, Eringate, Markland Wood, Old Burnhamthorpe'], 'M1E': ['Scarborough', 'Guildwood, Morningside, West Hill'], 'M4E': ['East Toronto', 'The Beaches'], 'M5E': ['Downtown Toronto', 'Berczy Park'], 'M6E': ['York', 'Caledonia-Fairbanks'], 'M1G': ['Scarborough', 'Woburn'], 'M4G': ['East York', 'Leaside'], 'M5G': ['Downtown Toronto', 'Central Bay Street'], 'M6G': ['Downtown Toronto', 'Christie'], 'M1H': ['Scarborough', 'Cedarbrae'], 'M2H': ['North York', 'Hillcrest Village'], 'M3H': ['North York', 'Bathurst Manor, Downsview North, Wilson Heights'], 'M4H': ['East York', 'Thorncliffe Park'], 'M5H': ['Downtown Toronto', 'Adelaide, King, Richmond'], 'M6H': ['West Toronto', 'Dovercourt Village, Dufferin'], 'M1J': ['Scarborough', 'Scarborough Village'], 'M2J': ['North York', 'Fairview, Henry Farm, Oriole'], 'M3J': ['North York', 'Northwood Park, York University'], 'M4J': ['East York', 'East Toronto'], 'M5J': ['Downtown Toronto', 'Harbourfront East, Toronto Islands, Union Station'], 'M6J': ['West Toronto', 'Little Portugal, Trinity'], 'M1K': ['Scarborough', 'East Birchmount Park, Ionview, Kennedy Park'], 'M2K': ['North York', 'Bayview Village'], 'M3K': ['North York', 'CFB Toronto, Downsview East'], 'M4K': ['East Toronto', 'The Danforth West, Riverdale'], 'M5K': ['Downtown Toronto', 'Design Exchange, Toronto Dominion Centre'], 'M6K': ['West Toronto', 'Brockton, Exhibition Place, Parkdale Village'], 'M1L': ['Scarborough', 'Clairlea, Golden Mile, Oakridge'], 'M2L': ['North York', 'Silver Hills, York Mills'], 'M3L': ['North York', 'Downsview West'], 'M4L': ['East Toronto', 'The Beaches West, India Bazaar'], 'M5L': ['Downtown Toronto', 'Commerce Court, Victoria Hotel'], 'M6L': ['North York', 'Downsview, North Park, Upwood Park'], 'M9L': ['North York', 'Humber Summit'], 'M1M': ['Scarborough', 'Cliffcrest, Cliffside, Scarborough Village West'], 'M2M': ['North York', 'Newtonbrook, Willowdale'], 'M3M': ['North York', 'Downsview Central'], 'M4M': ['East Toronto', 'Studio District'], 'M5M': ['North York', 'Bedford Park, Lawrence Manor East'], 'M6M': ['York', 'Del Ray, Keelesdale, Mount Dennis, Silverthorn'], 'M9M': ['North York', 'Emery, Humberlea'], 'M1N': ['Scarborough', 'Birch Cliff, Cliffside West'], 'M2N': ['North York', 'Willowdale South'], 'M3N': ['North York', 'Downsview Northwest'], 'M4N': ['Central Toronto', 'Lawrence Park'], 'M5N': ['Central Toronto', 'Roselawn'], 'M6N': ['York', 'The Junction North, Runnymede'], 'M9N': ['York', 'Weston'], 'M1P': ['Scarborough', 'Dorset Park, Scarborough Town Centre, Wexford Heights'], 'M2P': ['North York', 'York Mills West'], 'M4P': ['Central Toronto', 'Davisville North'], 'M5P': ['Central Toronto', 'Forest Hill North, Forest Hill West'], 'M6P': ['West Toronto', 'High Park, The Junction South'], 'M9P': ['Etobicoke', 'Westmount'], 'M1R': ['Scarborough', 'Maryvale, Wexford'], 'M2R': ['North York', 'Willowdale West'], 'M4R': ['Central Toronto', 'North Toronto West'], 'M5R': ['Central Toronto', 'The Annex, North Midtown, Yorkville'], 'M6R': ['West Toronto', 'Parkdale, Roncesvalles'], 'M7R': ['Mississauga', 'Canada Post Gateway Processing Centre'], 'M9R': ['Etobicoke', 'Kingsview Village, Martin Grove Gardens, Richview Gardens, St. Phillips'], 'M1S': ['Scarborough', 'Agincourt'], 'M4S': ['Central Toronto', 'Davisville'], 'M5S': ['Downtown Toronto', 'Harbord, University of Toronto'], 'M6S': ['West Toronto', 'Runnymede, Swansea'], 'M1T': ['Scarborough', \"Clarks Corners, Sullivan, Tam O'Shanter\"], 'M4T': ['Central Toronto', 'Moore Park, Summerhill East'], 'M5T': ['Downtown Toronto', 'Chinatown, Grange Park, Kensington Market'], 'M1V': ['Scarborough', \"Agincourt North, L'Amoreaux East, Milliken, Steeles East\"], 'M4V': ['Central Toronto', 'Deer Park, Forest Hill SE, Rathnelly, South Hill, Summerhill West'], 'M5V': ['Downtown Toronto', 'CN Tower, Bathurst Quay, Island airport, Harbourfront West, King and Spadina, Railway Lands, South Niagara'], 'M8V': ['Etobicoke', 'Humber Bay Shores, Mimico South, New Toronto'], 'M9V': ['Etobicoke', 'Albion Gardens, Beaumond Heights, Humbergate, Jamestown, Mount Olive, Silverstone, South Steeles, Thistletown'], 'M1W': ['Scarborough', \"L'Amoreaux West\"], 'M4W': ['Downtown Toronto', 'Rosedale'], 'M5W': ['Downtown Toronto', 'Stn A PO Boxes 25 The Esplanade'], 'M8W': ['Etobicoke', 'Alderwood, Long Branch'], 'M9W': ['Etobicoke', 'Northwest'], 'M1X': ['Scarborough', 'Upper Rouge'], 'M4X': ['Downtown Toronto', 'Cabbagetown, St. James Town'], 'M5X': ['Downtown Toronto', 'First Canadian Place, Underground city'], 'M8X': ['Etobicoke', 'The Kingsway, Montgomery Road, Old Mill North'], 'M4Y': ['Downtown Toronto', 'Church and Wellesley'], 'M7Y': ['East Toronto', 'Business Reply Mail Processing Centre 969 Eastern'], 'M8Y': ['Etobicoke', \"Humber Bay, King's Mill Park, Kingsway Park South East, Mimico NE, Old Mill South, The Queensway East, Royal York South East, Sunnylea\"], 'M8Z': ['Etobicoke', 'Kingsway Park South West, Mimico NW, The Queensway West, Royal York South West, South of Bloor']}\n"
     ]
    }
   ],
   "source": [
    "for key in postaldict:\n",
    "    if 'Not assigned' in postaldict[key][1]:\n",
    "        postaldict[key][1] = postaldict[key][0]\n",
    "    elif type(postaldict[key][1]) != str:\n",
    "        y = \", \".join(postaldict[key][1])\n",
    "        postaldict[key][1] = y\n",
    "        print(postaldict[key][1])\n",
    "print(postaldict)"
   ]
  },
  {
   "cell_type": "markdown",
   "metadata": {},
   "source": [
    "For the dataframe, we want the index to be numeric. With that in mind, I'm making a dictionary with a number as the index, and the postal code as the frist element in the value."
   ]
  },
  {
   "cell_type": "code",
   "execution_count": 9,
   "metadata": {},
   "outputs": [
    {
     "data": {
      "text/plain": [
       "103"
      ]
     },
     "execution_count": 9,
     "metadata": {},
     "output_type": "execute_result"
    }
   ],
   "source": [
    "finaldict = {}\n",
    "i=0\n",
    "for k in postaldict.keys():\n",
    "    finaldict[i] = [k,postaldict[k][0],postaldict[k][1]]\n",
    "    i+=1\n",
    "len(finaldict)"
   ]
  },
  {
   "cell_type": "markdown",
   "metadata": {},
   "source": [
    "##### Final Step: Creating the Dataframe from the dictionary"
   ]
  },
  {
   "cell_type": "code",
   "execution_count": 14,
   "metadata": {},
   "outputs": [],
   "source": [
    "df = pd.DataFrame.from_dict(finaldict,orient='index', columns = ['PostalCode','Borough', 'Neighborhood'])"
   ]
  },
  {
   "cell_type": "code",
   "execution_count": 28,
   "metadata": {},
   "outputs": [
    {
     "data": {
      "text/html": [
       "<div>\n",
       "<style scoped>\n",
       "    .dataframe tbody tr th:only-of-type {\n",
       "        vertical-align: middle;\n",
       "    }\n",
       "\n",
       "    .dataframe tbody tr th {\n",
       "        vertical-align: top;\n",
       "    }\n",
       "\n",
       "    .dataframe thead th {\n",
       "        text-align: right;\n",
       "    }\n",
       "</style>\n",
       "<table border=\"1\" class=\"dataframe\">\n",
       "  <thead>\n",
       "    <tr style=\"text-align: right;\">\n",
       "      <th></th>\n",
       "      <th>PostalCode</th>\n",
       "      <th>Borough</th>\n",
       "      <th>Neighborhood</th>\n",
       "    </tr>\n",
       "  </thead>\n",
       "  <tbody>\n",
       "    <tr>\n",
       "      <th>0</th>\n",
       "      <td>M3A</td>\n",
       "      <td>North York</td>\n",
       "      <td>Parkwoods</td>\n",
       "    </tr>\n",
       "    <tr>\n",
       "      <th>1</th>\n",
       "      <td>M4A</td>\n",
       "      <td>North York</td>\n",
       "      <td>Victoria Village</td>\n",
       "    </tr>\n",
       "    <tr>\n",
       "      <th>2</th>\n",
       "      <td>M5A</td>\n",
       "      <td>Downtown Toronto</td>\n",
       "      <td>Harbourfront</td>\n",
       "    </tr>\n",
       "    <tr>\n",
       "      <th>3</th>\n",
       "      <td>M6A</td>\n",
       "      <td>North York</td>\n",
       "      <td>Lawrence Heights, Lawrence Manor</td>\n",
       "    </tr>\n",
       "    <tr>\n",
       "      <th>4</th>\n",
       "      <td>M7A</td>\n",
       "      <td>Queen's Park</td>\n",
       "      <td>Queen's Park</td>\n",
       "    </tr>\n",
       "  </tbody>\n",
       "</table>\n",
       "</div>"
      ],
      "text/plain": [
       "  PostalCode           Borough                      Neighborhood\n",
       "0        M3A        North York                         Parkwoods\n",
       "1        M4A        North York                  Victoria Village\n",
       "2        M5A  Downtown Toronto                      Harbourfront\n",
       "3        M6A        North York  Lawrence Heights, Lawrence Manor\n",
       "4        M7A      Queen's Park                      Queen's Park"
      ]
     },
     "execution_count": 28,
     "metadata": {},
     "output_type": "execute_result"
    }
   ],
   "source": [
    "df.head()"
   ]
  },
  {
   "cell_type": "code",
   "execution_count": 16,
   "metadata": {},
   "outputs": [
    {
     "data": {
      "text/plain": [
       "(103, 3)"
      ]
     },
     "execution_count": 16,
     "metadata": {},
     "output_type": "execute_result"
    }
   ],
   "source": [
    "df.shape"
   ]
  },
  {
   "cell_type": "markdown",
   "metadata": {},
   "source": [
    "#### Section 2: Retrieving the geographic coordinates of each postal code"
   ]
  },
  {
   "cell_type": "code",
   "execution_count": 17,
   "metadata": {},
   "outputs": [
    {
     "ename": "ModuleNotFoundError",
     "evalue": "No module named 'geocoder'",
     "output_type": "error",
     "traceback": [
      "\u001b[1;31m---------------------------------------------------------------------------\u001b[0m",
      "\u001b[1;31mModuleNotFoundError\u001b[0m                       Traceback (most recent call last)",
      "\u001b[1;32m<ipython-input-17-9ea56cf7725e>\u001b[0m in \u001b[0;36m<module>\u001b[1;34m()\u001b[0m\n\u001b[1;32m----> 1\u001b[1;33m \u001b[1;32mimport\u001b[0m \u001b[0mgeocoder\u001b[0m\u001b[1;33m\u001b[0m\u001b[0m\n\u001b[0m",
      "\u001b[1;31mModuleNotFoundError\u001b[0m: No module named 'geocoder'"
     ]
    }
   ],
   "source": [
    "import geocoder"
   ]
  },
  {
   "cell_type": "code",
   "execution_count": 26,
   "metadata": {},
   "outputs": [
    {
     "data": {
      "text/html": [
       "<div>\n",
       "<style scoped>\n",
       "    .dataframe tbody tr th:only-of-type {\n",
       "        vertical-align: middle;\n",
       "    }\n",
       "\n",
       "    .dataframe tbody tr th {\n",
       "        vertical-align: top;\n",
       "    }\n",
       "\n",
       "    .dataframe thead th {\n",
       "        text-align: right;\n",
       "    }\n",
       "</style>\n",
       "<table border=\"1\" class=\"dataframe\">\n",
       "  <thead>\n",
       "    <tr style=\"text-align: right;\">\n",
       "      <th></th>\n",
       "      <th>PostalCode</th>\n",
       "      <th>Latitude</th>\n",
       "      <th>Longitude</th>\n",
       "    </tr>\n",
       "  </thead>\n",
       "  <tbody>\n",
       "    <tr>\n",
       "      <th>0</th>\n",
       "      <td>M1B</td>\n",
       "      <td>43.806686</td>\n",
       "      <td>-79.194353</td>\n",
       "    </tr>\n",
       "    <tr>\n",
       "      <th>1</th>\n",
       "      <td>M1C</td>\n",
       "      <td>43.784535</td>\n",
       "      <td>-79.160497</td>\n",
       "    </tr>\n",
       "    <tr>\n",
       "      <th>2</th>\n",
       "      <td>M1E</td>\n",
       "      <td>43.763573</td>\n",
       "      <td>-79.188711</td>\n",
       "    </tr>\n",
       "    <tr>\n",
       "      <th>3</th>\n",
       "      <td>M1G</td>\n",
       "      <td>43.770992</td>\n",
       "      <td>-79.216917</td>\n",
       "    </tr>\n",
       "    <tr>\n",
       "      <th>4</th>\n",
       "      <td>M1H</td>\n",
       "      <td>43.773136</td>\n",
       "      <td>-79.239476</td>\n",
       "    </tr>\n",
       "  </tbody>\n",
       "</table>\n",
       "</div>"
      ],
      "text/plain": [
       "  PostalCode   Latitude  Longitude\n",
       "0        M1B  43.806686 -79.194353\n",
       "1        M1C  43.784535 -79.160497\n",
       "2        M1E  43.763573 -79.188711\n",
       "3        M1G  43.770992 -79.216917\n",
       "4        M1H  43.773136 -79.239476"
      ]
     },
     "execution_count": 26,
     "metadata": {},
     "output_type": "execute_result"
    }
   ],
   "source": [
    "geocodecsv = \"C:/Users/Mercedes/Documents/DSCapstone/Coursera_Capstone/Geospatial_Coordinates.csv\"\n",
    "geodf = pd.read_csv(geocodecsv)\n",
    "geodf.rename(columns = {'Postal Code':'PostalCode'}, inplace = True)\n",
    "geodf.head()"
   ]
  },
  {
   "cell_type": "markdown",
   "metadata": {},
   "source": [
    "The numeric indexes of the pre-existing dataframe and the coordinate dataframe do not line up, so we'll be joining them together, using PostalCode as the unifying column. "
   ]
  },
  {
   "cell_type": "code",
   "execution_count": 25,
   "metadata": {},
   "outputs": [],
   "source": [
    "fulldf = pd.merge(df,geodf, how = 'outer', on = 'PostalCode', left_on=None, right_on=None, left_index=False, right_index=False, sort=False, suffixes=('_x', '_y'), copy=True, indicator=False, validate=None)"
   ]
  },
  {
   "cell_type": "code",
   "execution_count": 27,
   "metadata": {},
   "outputs": [
    {
     "data": {
      "text/html": [
       "<div>\n",
       "<style scoped>\n",
       "    .dataframe tbody tr th:only-of-type {\n",
       "        vertical-align: middle;\n",
       "    }\n",
       "\n",
       "    .dataframe tbody tr th {\n",
       "        vertical-align: top;\n",
       "    }\n",
       "\n",
       "    .dataframe thead th {\n",
       "        text-align: right;\n",
       "    }\n",
       "</style>\n",
       "<table border=\"1\" class=\"dataframe\">\n",
       "  <thead>\n",
       "    <tr style=\"text-align: right;\">\n",
       "      <th></th>\n",
       "      <th>PostalCode</th>\n",
       "      <th>Borough</th>\n",
       "      <th>Neighborhood</th>\n",
       "      <th>Latitude</th>\n",
       "      <th>Longitude</th>\n",
       "    </tr>\n",
       "  </thead>\n",
       "  <tbody>\n",
       "    <tr>\n",
       "      <th>0</th>\n",
       "      <td>M3A</td>\n",
       "      <td>North York</td>\n",
       "      <td>Parkwoods</td>\n",
       "      <td>43.753259</td>\n",
       "      <td>-79.329656</td>\n",
       "    </tr>\n",
       "    <tr>\n",
       "      <th>1</th>\n",
       "      <td>M4A</td>\n",
       "      <td>North York</td>\n",
       "      <td>Victoria Village</td>\n",
       "      <td>43.725882</td>\n",
       "      <td>-79.315572</td>\n",
       "    </tr>\n",
       "    <tr>\n",
       "      <th>2</th>\n",
       "      <td>M5A</td>\n",
       "      <td>Downtown Toronto</td>\n",
       "      <td>Harbourfront</td>\n",
       "      <td>43.654260</td>\n",
       "      <td>-79.360636</td>\n",
       "    </tr>\n",
       "    <tr>\n",
       "      <th>3</th>\n",
       "      <td>M6A</td>\n",
       "      <td>North York</td>\n",
       "      <td>Lawrence Heights, Lawrence Manor</td>\n",
       "      <td>43.718518</td>\n",
       "      <td>-79.464763</td>\n",
       "    </tr>\n",
       "    <tr>\n",
       "      <th>4</th>\n",
       "      <td>M7A</td>\n",
       "      <td>Queen's Park</td>\n",
       "      <td>Queen's Park</td>\n",
       "      <td>43.662301</td>\n",
       "      <td>-79.389494</td>\n",
       "    </tr>\n",
       "  </tbody>\n",
       "</table>\n",
       "</div>"
      ],
      "text/plain": [
       "  PostalCode           Borough                      Neighborhood   Latitude  \\\n",
       "0        M3A        North York                         Parkwoods  43.753259   \n",
       "1        M4A        North York                  Victoria Village  43.725882   \n",
       "2        M5A  Downtown Toronto                      Harbourfront  43.654260   \n",
       "3        M6A        North York  Lawrence Heights, Lawrence Manor  43.718518   \n",
       "4        M7A      Queen's Park                      Queen's Park  43.662301   \n",
       "\n",
       "   Longitude  \n",
       "0 -79.329656  \n",
       "1 -79.315572  \n",
       "2 -79.360636  \n",
       "3 -79.464763  \n",
       "4 -79.389494  "
      ]
     },
     "execution_count": 27,
     "metadata": {},
     "output_type": "execute_result"
    }
   ],
   "source": [
    "fulldf.head()"
   ]
  },
  {
   "cell_type": "markdown",
   "metadata": {},
   "source": [
    "#### Section 3: Exploring the Neighborhoods in Toronto Using Foursquare"
   ]
  },
  {
   "cell_type": "code",
   "execution_count": null,
   "metadata": {},
   "outputs": [],
   "source": []
  }
 ],
 "metadata": {
  "kernelspec": {
   "display_name": "Python 3",
   "language": "python",
   "name": "python3"
  },
  "language_info": {
   "codemirror_mode": {
    "name": "ipython",
    "version": 3
   },
   "file_extension": ".py",
   "mimetype": "text/x-python",
   "name": "python",
   "nbconvert_exporter": "python",
   "pygments_lexer": "ipython3",
   "version": "3.6.5"
  }
 },
 "nbformat": 4,
 "nbformat_minor": 2
}
